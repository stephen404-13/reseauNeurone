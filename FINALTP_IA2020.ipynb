{
 "cells": [
  {
   "cell_type": "code",
   "execution_count": 2,
   "metadata": {},
   "outputs": [],
   "source": [
    "import matplotlib.pyplot as plt"
   ]
  },
  {
   "cell_type": "code",
   "execution_count": 3,
   "metadata": {},
   "outputs": [],
   "source": [
    "import tensorflow as tf\n",
    "import numpy as np"
   ]
  },
  {
   "cell_type": "code",
   "execution_count": 4,
   "metadata": {},
   "outputs": [],
   "source": [
    "(images_train, targets_train), (images_test, targets_test) = tf.keras.datasets.fashion_mnist.load_data()"
   ]
  },
  {
   "cell_type": "code",
   "execution_count": 6,
   "metadata": {},
   "outputs": [
    {
     "name": "stdout",
     "output_type": "stream",
     "text": [
      "(60000, 28, 28)\n",
      "(60000,)\n"
     ]
    }
   ],
   "source": [
    "print(images_train.shape)\n",
    "print(targets_train.shape)"
   ]
  },
  {
   "cell_type": "code",
   "execution_count": 39,
   "metadata": {},
   "outputs": [],
   "source": [
    "#Seration des donnee de test en 2\n",
    "\n",
    "#donnee de test\n",
    "#import copy\n",
    "\n",
    "#imagess_test = copy.deepcopy(images_test[:9990])\n",
    "#targetss_test = copy.deepcopy(images_test[:9990])\n",
    "\n",
    "#images_validation \n",
    "#images_val = copy.deepcopy(images_test[9990:10000])\n",
    "#targets_val = copy.deepcopy(images_test[9990:10000])"
   ]
  },
  {
   "cell_type": "code",
   "execution_count": 80,
   "metadata": {},
   "outputs": [
    {
     "data": {
      "text/plain": [
       "10"
      ]
     },
     "execution_count": 80,
     "metadata": {},
     "output_type": "execute_result"
    }
   ],
   "source": [
    "len(images_val)"
   ]
  },
  {
   "cell_type": "code",
   "execution_count": 78,
   "metadata": {},
   "outputs": [
    {
     "name": "stdout",
     "output_type": "stream",
     "text": [
      "(9990, 28, 28)\n",
      "(9990, 28, 28)\n"
     ]
    }
   ],
   "source": [
    "print(imagess_test.shape)\n",
    "print(targetss_test.shape)"
   ]
  },
  {
   "cell_type": "code",
   "execution_count": 73,
   "metadata": {},
   "outputs": [],
   "source": [
    "targets_names = [\"T-shirt\", \"Pantalon\", \"Pull\", \"Robe\", \"Manteau\", \"Sandale\", \n",
    "\"Chemise\", \"Sneaker\", \"Sac\", \"Bottes\"]"
   ]
  },
  {
   "cell_type": "code",
   "execution_count": 20,
   "metadata": {},
   "outputs": [
    {
     "name": "stdout",
     "output_type": "stream",
     "text": [
      "targets associer à : 9\n"
     ]
    },
    {
     "data": {
      "image/png": "[encoded data removed]",
      "text/plain": [
       "<Figure size 432x288 with 1 Axes>"
      ]
     },
     "metadata": {
      "needs_background": "light"
     },
     "output_type": "display_data"
    }
   ],
   "source": [
    "plt.imshow(images_test[0])\n",
    "\n",
    "plt.title(targets_names[targets_test[0]])\n",
    "\n",
    "print('targets associer à :',targets_test[0])\n",
    "\n",
    "#print('targets associer à :',targets_val[0])"
   ]
  },
  {
   "cell_type": "code",
   "execution_count": 21,
   "metadata": {},
   "outputs": [
    {
     "data": {
      "image/png": "[encoded data removed]",
      "text/plain": [
       "<Figure size 432x288 with 1 Axes>"
      ]
     },
     "metadata": {},
     "output_type": "display_data"
    }
   ],
   "source": [
    "#VERIFICATION QUE LES DONNEES SONT EQUILIRES\n",
    "\n",
    "# Noms des catégories et fréquences d'apparitions\n",
    "\n",
    "labels = targets_names\n",
    "sizes = np.unique(targets_train,return_counts=True)[1]\n",
    "\n",
    "# Choix des couleurs\n",
    "\n",
    "colors =['#fff100','#ff8c00','#e81123','#ec008c','#68217a',    '#00188f',\n",
    "'#00bcf2','#00b294','#009e49','#bad80a']\n",
    " \n",
    "# Construction du diagramme et affichage des labels et des #fréquences en pourcentage\n",
    "\n",
    "fig1, ax1 = plt.subplots()\n",
    "ax1.pie(sizes, colors = colors, labels=labels, autopct='%1.1f%%', startangle=90)\n",
    "\n",
    "# Tracé du cercle au milieu\n",
    "\n",
    "centre_circle = plt.Circle((0,0),0.70,fc='white')\n",
    "fig = plt.gcf()\n",
    "fig.gca().add_artist(centre_circle)\n",
    "\n",
    "# Affichage du diagramme\n",
    "\n",
    "ax1.axis('equal')  \n",
    "plt.tight_layout()\n",
    "plt.show()"
   ]
  },
  {
   "cell_type": "code",
   "execution_count": 38,
   "metadata": {},
   "outputs": [],
   "source": [
    "# On converti nos valeurs en float\n",
    "\n",
    "images_train = images_train.astype(float)\n",
    "images_test = images_test.astype(float)\n",
    "\n",
    "# On normalise les pixels pour avoir des valeurs entre 0 et 1\n",
    "\n",
    "images_train = images_train/255\n",
    "imagess_test = imagess_test/255"
   ]
  },
  {
   "cell_type": "code",
   "execution_count": 22,
   "metadata": {},
   "outputs": [],
   "source": [
    "#creqtion du ;odel\n",
    "model = tf.keras.models.Sequential()\n",
    "\n",
    "#couche Flattern pour aplatir les images\n",
    "model.add(tf.keras.layers.Flatten(input_shape=[28,28]))\n",
    "\n",
    "\n",
    "#construction des couches\n",
    "model.add(tf.keras.layers.Dense(256, activation=\"relu\"))\n",
    "model.add(tf.keras.layers.Dense(128, activation=\"relu\"))\n",
    "model.add(tf.keras.layers.Dense(10, activation=\"softmax\"))"
   ]
  },
  {
   "cell_type": "code",
   "execution_count": 8,
   "metadata": {},
   "outputs": [
    {
     "name": "stdout",
     "output_type": "stream",
     "text": [
      "Model: \"sequential\"\n",
      "_________________________________________________________________\n",
      "Layer (type)                 Output Shape              Param #   \n",
      "=================================================================\n",
      "flatten (Flatten)            (None, 784)               0         \n",
      "_________________________________________________________________\n",
      "dense (Dense)                (None, 256)               200960    \n",
      "_________________________________________________________________\n",
      "dense_1 (Dense)              (None, 128)               32896     \n",
      "_________________________________________________________________\n",
      "dense_2 (Dense)              (None, 10)                1290      \n",
      "=================================================================\n",
      "Total params: 235,146\n",
      "Trainable params: 235,146\n",
      "Non-trainable params: 0\n",
      "_________________________________________________________________\n"
     ]
    }
   ],
   "source": [
    "#verification\n",
    "\n",
    "model.summary()"
   ]
  },
  {
   "cell_type": "code",
   "execution_count": 27,
   "metadata": {},
   "outputs": [
    {
     "name": "stdout",
     "output_type": "stream",
     "text": [
      "shape of image after the flatten (1, 10)\n"
     ]
    }
   ],
   "source": [
    "model_output = model.predict(images_train[1:2])\n",
    "print(\"shape of image after the flatten\",model_output.shape)"
   ]
  },
  {
   "cell_type": "code",
   "execution_count": null,
   "metadata": {},
   "outputs": [],
   "source": []
  },
  {
   "cell_type": "code",
   "execution_count": 55,
   "metadata": {},
   "outputs": [],
   "source": [
    "model.compile(\n",
    "    loss=\"sparse_categorical_crossentropy\",\n",
    "    optimizer=\"adam\",\n",
    "    metrics=[\"accuracy\"]\n",
    ")\n"
   ]
  },
  {
   "cell_type": "code",
   "execution_count": 59,
   "metadata": {},
   "outputs": [
    {
     "name": "stdout",
     "output_type": "stream",
     "text": [
      "Train on 60000 samples\n",
      "Epoch 1/10\n",
      "60000/60000 [==============================] - 53s 885us/sample - loss: 0.3153 - accuracy: 0.8937\n",
      "Epoch 2/10\n",
      "60000/60000 [==============================] - 53s 888us/sample - loss: 0.3073 - accuracy: 0.8938\n",
      "Epoch 3/10\n",
      "60000/60000 [==============================] - 55s 914us/sample - loss: 0.2955 - accuracy: 0.8974\n",
      "Epoch 4/10\n",
      "60000/60000 [==============================] - 52s 863us/sample - loss: 0.3089 - accuracy: 0.8971\n",
      "Epoch 5/10\n",
      "60000/60000 [==============================] - 51s 855us/sample - loss: 0.2893 - accuracy: 0.8978\n",
      "Epoch 6/10\n",
      "60000/60000 [==============================] - 52s 871us/sample - loss: 0.2862 - accuracy: 0.8998\n",
      "Epoch 7/10\n",
      "60000/60000 [==============================] - 54s 896us/sample - loss: 0.2850 - accuracy: 0.9000\n",
      "Epoch 8/10\n",
      "60000/60000 [==============================] - 54s 895us/sample - loss: 0.2949 - accuracy: 0.8978\n",
      "Epoch 9/10\n",
      "60000/60000 [==============================] - 54s 906us/sample - loss: 0.2898 - accuracy: 0.9004\n",
      "Epoch 10/10\n",
      "60000/60000 [==============================] - 55s 916us/sample - loss: 0.2909 - accuracy: 0.9004\n"
     ]
    }
   ],
   "source": [
    "history = model.fit(images_train,\n",
    "                    targets_train,\n",
    "                    epochs=10,\n",
    "                    validation_split=0)"
   ]
  },
  {
   "cell_type": "code",
   "execution_count": 60,
   "metadata": {},
   "outputs": [
    {
     "name": "stdout",
     "output_type": "stream",
     "text": [
      "10000/10000 [==============================] - 4s 437us/sample - loss: 0.4247 - accuracy: 0.8676\n"
     ]
    }
   ],
   "source": [
    "loss, acc = model.evaluate(images_test, targets_test)"
   ]
  },
  {
   "cell_type": "code",
   "execution_count": null,
   "metadata": {},
   "outputs": [],
   "source": [
    "model_otput = model.predict(images_train[0:1])\n",
    "\n",
    "print(\"shape of image after the flatten\",model_output.shape)"
   ]
  },
  {
   "cell_type": "code",
   "execution_count": 75,
   "metadata": {},
   "outputs": [
    {
     "name": "stdout",
     "output_type": "stream",
     "text": [
      "targets associer à : 3\n"
     ]
    },
    {
     "data": {
      "image/png": "[encoded data removed]",
      "text/plain": [
       "<Figure size 432x288 with 1 Axes>"
      ]
     },
     "metadata": {
      "needs_background": "light"
     },
     "output_type": "display_data"
    }
   ],
   "source": [
    "plt.imshow(images_test[100])\n",
    "\n",
    "plt.title(targets_names[targets_test[100]])\n",
    "\n",
    "print('targets associer à :',targets_test[100])\n",
    "\n",
    "#print('targets associer à :',targets_val[0])"
   ]
  },
  {
   "cell_type": "code",
   "execution_count": 76,
   "metadata": {},
   "outputs": [
    {
     "name": "stdout",
     "output_type": "stream",
     "text": [
      "Cette image corespond la cathegorie : Robe\n"
     ]
    }
   ],
   "source": [
    "model_output = model.predict(images_test[100:101])\n",
    "#print(model_output)\n",
    "def ind(tab):\n",
    "    i = 0\n",
    "    maximum = max(tab) \n",
    "    for k in tab:\n",
    "        if k == maximum:\n",
    "            return i\n",
    "        i = i+1\n",
    "            \n",
    "model_output = model_output[0]     \n",
    "\n",
    "m = ind(model_output)\n",
    "print('Cette image corespond la cathegorie :',targets_names[m])\n",
    "        \n",
    "\n",
    "#print(model_output[0])\n",
    "#print(\"shape of image a"
   ]
  },
  {
   "cell_type": "code",
   "execution_count": 18,
   "metadata": {},
   "outputs": [
    {
     "data": {
      "image/png": "[encoded data removed]",
      "text/plain": [
       "<Figure size 432x288 with 1 Axes>"
      ]
     },
     "metadata": {
      "needs_background": "light"
     },
     "output_type": "display_data"
    },
    {
     "data": {
      "image/png": "[encoded data removed]",
      "text/plain": [
       "<Figure size 432x288 with 1 Axes>"
      ]
     },
     "metadata": {
      "needs_background": "light"
     },
     "output_type": "display_data"
    }
   ],
   "source": [
    "loss_curve = history.history[\"loss\"]\n",
    "acc_curve = history.history[\"accuracy\"]\n",
    "\n",
    "loss_val_curve = history.history[\"val_loss\"]\n",
    "acc_val_curve = history.history[\"val_accuracy\"]\n",
    "\n",
    "plt.plot(loss_curve, label=\"Train\")\n",
    "plt.plot(loss_val_curve, label=\"Val\")\n",
    "plt.legend(loc='upper left')\n",
    "plt.title(\"Loss\")\n",
    "plt.show()\n",
    "\n",
    "plt.plot(acc_curve, label=\"Train\")\n",
    "plt.plot(acc_val_curve, label=\"Val\")\n",
    "plt.legend(loc='upper left')\n",
    "plt.title(\"Accuracy\")\n",
    "plt.show()"
   ]
  },
  {
   "cell_type": "code",
   "execution_count": 45,
   "metadata": {},
   "outputs": [
    {
     "name": "stdout",
     "output_type": "stream",
     "text": [
      "10000/10000 [==============================] - 8s 751us/sample - loss: 0.3690 - accuracy: 0.8810\n",
      "Test Loss 0.3690178635120392\n",
      "Test Accuracy 0.881\n"
     ]
    }
   ],
   "source": [
    "loss, acc = model.evaluate(images_test, targets_test)\n",
    "print(\"Test Loss\", loss)\n",
    "print(\"Test Accuracy\", acc)"
   ]
  },
  {
   "cell_type": "code",
   "execution_count": 90,
   "metadata": {},
   "outputs": [
    {
     "name": "stdout",
     "output_type": "stream",
     "text": [
      "targets associer à : 3\n"
     ]
    },
    {
     "data": {
      "image/png": "[encoded data removed]",
      "text/plain": [
       "<Figure size 432x288 with 1 Axes>"
      ]
     },
     "metadata": {
      "needs_background": "light"
     },
     "output_type": "display_data"
    }
   ],
   "source": [
    "plt.imshow(images_test[100])\n",
    "plt.title(targets_names[targets_test[100]])\n",
    "\n",
    "print('targets associer à :',targets_test[100])"
   ]
  },
  {
   "cell_type": "code",
   "execution_count": 92,
   "metadata": {},
   "outputs": [
    {
     "name": "stdout",
     "output_type": "stream",
     "text": [
      "[[9.99810517e-01 9.10740730e-16 1.10800875e-05 7.14115256e-09\n",
      "  9.29862978e-08 5.68918690e-10 1.78300761e-04 5.83322538e-15\n",
      "  2.30707787e-13 2.51947543e-11]] [3 6 7]\n"
     ]
    }
   ],
   "source": [
    "model_ouput = model.predict(images_test[100:103])\n",
    "\n",
    "print(model_output, targets_test[100:103])\n"
   ]
  },
  {
   "cell_type": "code",
   "execution_count": null,
   "metadata": {},
   "outputs": [],
   "source": [
    "\n",
    "    "
   ]
  },
  {
   "cell_type": "code",
   "execution_count": 4,
   "metadata": {},
   "outputs": [],
   "source": [
    "\n"
   ]
  },
  {
   "cell_type": "code",
   "execution_count": 3,
   "metadata": {},
   "outputs": [],
   "source": []
  },
  {
   "cell_type": "code",
   "execution_count": 5,
   "metadata": {},
   "outputs": [
    {
     "name": "stdout",
     "output_type": "stream",
     "text": [
      "(60000, 28, 28)\n",
      "(60000,)\n"
     ]
    }
   ],
   "source": [
    "print(images_train.shape)\n",
    "print(targets_train.shape)"
   ]
  },
  {
   "cell_type": "code",
   "execution_count": 131,
   "metadata": {},
   "outputs": [],
   "source": [
    "#images_train = images_train[:10000]\n",
    "#targets_train = targets_train[:10000]"
   ]
  },
  {
   "cell_type": "code",
   "execution_count": 132,
   "metadata": {},
   "outputs": [
    {
     "name": "stdout",
     "output_type": "stream",
     "text": [
      "(10000, 28, 28)\n",
      "(10000,)\n"
     ]
    }
   ],
   "source": [
    "print(images_train.shape)\n",
    "print(targets_train.shape)"
   ]
  },
  {
   "cell_type": "code",
   "execution_count": 12,
   "metadata": {},
   "outputs": [],
   "source": [
    "images_train = images_train.reshape(-1,28,28,1)\n",
    "images_test = images_test.reshape(-1,28,28,1)\n",
    "\n",
    "images_train = images_train.astype('float')/255\n",
    "images_test = images_test.astype('float')/255"
   ]
  },
  {
   "cell_type": "code",
   "execution_count": 13,
   "metadata": {},
   "outputs": [],
   "source": [
    "model = tf.keras.Sequential()\n",
    "\n",
    "model.add(tf.keras.layers.Conv2D(64, kernel_size=(3, 3),\n",
    "                 activation='relu',\n",
    "                 input_shape=(28, 28, 1)))\n",
    "\n",
    "model.add(tf.keras.layers.Conv2D(64, \n",
    "                 kernel_size=(3, 3), \n",
    "                 activation='relu'))\n",
    "\n",
    "model.add(tf.keras.layers.MaxPooling2D(pool_size=(2, 2)))\n",
    "model.add(tf.keras.layers.Dropout(0.3))\n",
    "\n",
    "model.add(tf.keras.layers.Conv2D(256, \n",
    "                 kernel_size=(3, 3), \n",
    "                 activation='relu'))\n",
    "\n",
    "model.add(tf.keras.layers.Conv2D(256, \n",
    "                 kernel_size=(3, 3), \n",
    "                 padding='same',\n",
    "                 activation='relu'))\n",
    "\n",
    "model.add(tf.keras.layers.MaxPooling2D(pool_size=(2, 2)))\n",
    "model.add(tf.keras.layers.Dropout(0.3))\n",
    "\n",
    "model.add(tf.keras.layers.Flatten())\n",
    "\n",
    "model.add(tf.keras.layers.Dense(2048, activation='relu'))\n",
    "model.add(tf.keras.layers.Dropout(0.3))\n",
    "model.add(tf.keras.layers.Dense(512, activation='relu'))\n",
    "\n",
    "model.add(tf.keras.layers.Dense(10, activation='softmax'))"
   ]
  },
  {
   "cell_type": "code",
   "execution_count": 14,
   "metadata": {},
   "outputs": [],
   "source": [
    "model.compile(\n",
    "    loss=\"sparse_categorical_crossentropy\",\n",
    "    optimizer=\"adam\",\n",
    "    metrics=[\"accuracy\"]\n",
    ")\n",
    "\n"
   ]
  },
  {
   "cell_type": "code",
   "execution_count": null,
   "metadata": {},
   "outputs": [
    {
     "name": "stdout",
     "output_type": "stream",
     "text": [
      "Train on 60000 samples\n",
      "Epoch 1/10\n",
      "  704/60000 [..............................] - ETA: 8:47:25 - loss: 1.8201 - accuracy: 0.3182"
     ]
    }
   ],
   "source": [
    "history = model.fit(images_train,\n",
    "                    targets_train,\n",
    "                    epochs=10,\n",
    "                    validation_split=0\n",
    "                    )"
   ]
  },
  {
   "cell_type": "code",
   "execution_count": 93,
   "metadata": {},
   "outputs": [
    {
     "name": "stdout",
     "output_type": "stream",
     "text": [
      "10000/10000 [==============================] - 4s 398us/sample - loss: 0.5959 - accuracy: 0.8659\n",
      "Test Loss 0.5959023759007454\n",
      "Test Accuracy 0.8659\n"
     ]
    }
   ],
   "source": [
    "loss, acc = model.evaluate(images_test, targets_test)\n",
    "print(\"Test Loss\", loss)\n",
    "print(\"Test Accuracy\", acc)"
   ]
  },
  {
   "cell_type": "code",
   "execution_count": 86,
   "metadata": {},
   "outputs": [
    {
     "name": "stdout",
     "output_type": "stream",
     "text": [
      "targets associer à : 0\n"
     ]
    },
    {
     "data": {
      "image/png": "[encoded data removed]",
      "text/plain": [
       "<Figure size 432x288 with 1 Axes>"
      ]
     },
     "metadata": {
      "needs_background": "light"
     },
     "output_type": "display_data"
    }
   ],
   "source": [
    "plt.imshow(images_test[100])\n",
    "plt.title(targets_names[targets_test[1000]])\n",
    "\n",
    "print('targets associer à :',targets_test[1000])"
   ]
  },
  {
   "cell_type": "code",
   "execution_count": 92,
   "metadata": {},
   "outputs": [
    {
     "name": "stdout",
     "output_type": "stream",
     "text": [
      "Cette image corespond la cathegorie : Chemise\n"
     ]
    }
   ],
   "source": [
    "model_output = model.predict(images_test[1000:1001])\n",
    "#print(model_output)\n",
    "def ind(tab):\n",
    "    i = 0\n",
    "    maximum = max(tab) \n",
    "    for k in tab:\n",
    "        if k == maximum:\n",
    "            return i\n",
    "        i = i+1\n",
    "            \n",
    "model_output = model_output[0]     \n",
    "\n",
    "m = ind(model_output)\n",
    "print('Cette image corespond la cathegorie :',targets_names[m])"
   ]
  },
  {
   "cell_type": "code",
   "execution_count": 88,
   "metadata": {},
   "outputs": [
    {
     "ename": "KeyError",
     "evalue": "'val_loss'",
     "output_type": "error",
     "traceback": [
      "\u001b[1;31m---------------------------------------------------------------------------\u001b[0m",
      "\u001b[1;31mKeyError\u001b[0m                                  Traceback (most recent call last)",
      "\u001b[1;32m<ipython-input-88-9c5eb1ecab5b>\u001b[0m in \u001b[0;36m<module>\u001b[1;34m\u001b[0m\n\u001b[0;32m      2\u001b[0m \u001b[0macc_curve\u001b[0m \u001b[1;33m=\u001b[0m \u001b[0mhistory\u001b[0m\u001b[1;33m.\u001b[0m\u001b[0mhistory\u001b[0m\u001b[1;33m[\u001b[0m\u001b[1;34m\"accuracy\"\u001b[0m\u001b[1;33m]\u001b[0m\u001b[1;33m\u001b[0m\u001b[1;33m\u001b[0m\u001b[0m\n\u001b[0;32m      3\u001b[0m \u001b[1;33m\u001b[0m\u001b[0m\n\u001b[1;32m----> 4\u001b[1;33m \u001b[0mloss_val_curve\u001b[0m \u001b[1;33m=\u001b[0m \u001b[0mhistory\u001b[0m\u001b[1;33m.\u001b[0m\u001b[0mhistory\u001b[0m\u001b[1;33m[\u001b[0m\u001b[1;34m\"val_loss\"\u001b[0m\u001b[1;33m]\u001b[0m\u001b[1;33m\u001b[0m\u001b[1;33m\u001b[0m\u001b[0m\n\u001b[0m\u001b[0;32m      5\u001b[0m \u001b[0macc_val_curve\u001b[0m \u001b[1;33m=\u001b[0m \u001b[0mhistory\u001b[0m\u001b[1;33m.\u001b[0m\u001b[0mhistory\u001b[0m\u001b[1;33m[\u001b[0m\u001b[1;34m\"val_accuracy\"\u001b[0m\u001b[1;33m]\u001b[0m\u001b[1;33m\u001b[0m\u001b[1;33m\u001b[0m\u001b[0m\n\u001b[0;32m      6\u001b[0m \u001b[1;33m\u001b[0m\u001b[0m\n",
      "\u001b[1;31mKeyError\u001b[0m: 'val_loss'"
     ]
    }
   ],
   "source": []
  },
  {
   "cell_type": "code",
   "execution_count": null,
   "metadata": {},
   "outputs": [],
   "source": []
  },
  {
   "cell_type": "code",
   "execution_count": null,
   "metadata": {},
   "outputs": [],
   "source": [
    "oss, acc = model.evaluate(images_test, targets_test)\n",
    "print(\"Test Loss\", loss)\n",
    "print(\"Test Accuracy\", acc)"
   ]
  },
  {
   "cell_type": "code",
   "execution_count": null,
   "metadata": {},
   "outputs": [],
   "source": []
  }
 ],
 "metadata": {
  "kernelspec": {
   "display_name": "Python 3",
   "language": "python",
   "name": "python3"
  },
  "language_info": {
   "codemirror_mode": {
    "name": "ipython",
    "version": 3
   },
   "file_extension": ".py",
   "mimetype": "text/x-python",
   "name": "python",
   "nbconvert_exporter": "python",
   "pygments_lexer": "ipython3",
   "version": "3.6.12"
  }
 },
 "nbformat": 4,
 "nbformat_minor": 4
}
